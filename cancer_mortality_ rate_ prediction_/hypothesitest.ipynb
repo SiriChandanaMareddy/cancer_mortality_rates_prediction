{
 "cells": [
  {
   "cell_type": "code",
   "execution_count": 1,
   "metadata": {},
   "outputs": [],
   "source": [
    "df = read.csv('cancer.csv')"
   ]
  },
  {
   "cell_type": "markdown",
   "metadata": {},
   "source": [
    "#Hypothesis test\n",
    "\n",
    "H0 : the average death rate is 178.6640630128041"
   ]
  },
  {
   "cell_type": "code",
   "execution_count": 2,
   "metadata": {},
   "outputs": [
    {
     "data": {
      "text/plain": [
       "\n",
       "\tOne Sample t-test\n",
       "\n",
       "data:  df$TARGET_deathRate\n",
       "t = -9.1583e-12, df = 3046, p-value = 0.5\n",
       "alternative hypothesis: true mean is greater than 178.6641\n",
       "95 percent confidence interval:\n",
       " 177.8369      Inf\n",
       "sample estimates:\n",
       "mean of x \n",
       " 178.6641 \n"
      ]
     },
     "metadata": {},
     "output_type": "display_data"
    }
   ],
   "source": [
    "t.test(df$TARGET_deathRate, mu =178.6640630128041, alternative=\"greater\")"
   ]
  },
  {
   "cell_type": "code",
   "execution_count": null,
   "metadata": {},
   "outputs": [],
   "source": []
  }
 ],
 "metadata": {
  "kernelspec": {
   "display_name": "R",
   "language": "R",
   "name": "ir"
  },
  "language_info": {
   "codemirror_mode": "r",
   "file_extension": ".r",
   "mimetype": "text/x-r-source",
   "name": "R",
   "pygments_lexer": "r",
   "version": "3.6.1"
  }
 },
 "nbformat": 4,
 "nbformat_minor": 4
}
